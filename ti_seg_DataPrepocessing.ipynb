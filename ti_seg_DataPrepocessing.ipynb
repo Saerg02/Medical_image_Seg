{
 "cells": [
  {
   "cell_type": "markdown",
   "id": "52c3afbd",
   "metadata": {},
   "source": [
    "Data Prepocessing: \n",
    "1. Since medical images such as images of tissues generally are storage-expensive even for a single picture, it is impossible to train them in a NN modle once in a time when the computational resources are limited, which means we have to chop theses images into many sub-array in a smaller size.\n",
    "-------------\n",
    "\n",
    "2. Overlapping is supposed to be helpful to the consistancy of training data, as well as the inference.\n"
   ]
  },
  {
   "cell_type": "code",
   "execution_count": null,
   "id": "e632373d",
   "metadata": {},
   "outputs": [],
   "source": [
    "import os\n",
    "import numpy as np\n",
    "from PIL import Image\n",
    "import numpy as np\n",
    "import pandas as pd\n",
    "import matplotlib.pyplot as plt\n"
   ]
  },
  {
   "cell_type": "code",
   "execution_count": null,
   "id": "f7359c80",
   "metadata": {},
   "outputs": [],
   "source": [
    "from PIL import Image\n",
    "import numpy as np\n",
    "import os\n",
    "\n",
    "# Patch size for dividing the images\n",
    "patch_size = (256, 256)\n",
    "\n",
    "# Stride for overlapping patches\n",
    "stride = 128\n",
    "\n",
    "# Function to extract patches from images\n",
    "def extract_patches():\n",
    "    \n",
    "    image_patches = []\n",
    "    label_patches = []\n",
    "    output_dir_im = 'tissue_positive/256_im_try2'\n",
    "    output_dir_la = 'tissue_positive/256_la_try2'\n",
    "    if not os.path.exists(output_dir_im):\n",
    "        os.makedirs(output_dir_im)\n",
    "    if not os.path.exists(output_dir_la):\n",
    "        os.makedirs(output_dir_la)\n",
    "    \n",
    "    # Read the images and labels\n",
    "    data = []\n",
    "    image_patches = []\n",
    "    label_patches = []\n",
    "    k = 1\n",
    "    for image_file in image_files:\n",
    "        k = k+1\n",
    "        # Read the image\n",
    "        image_path = os.path.join(images_directory, image_file)\n",
    "        images = np.array(Image.open(image_path))\n",
    "\n",
    "\n",
    "        # Read the label\n",
    "        #label_file = image_file.replace('image','label')\n",
    "        label_file = image_file\n",
    "        label_path = os.path.join(labels_directory, label_file)\n",
    "        labels = np.array(Image.open(label_path))\n",
    "\n",
    "        # Append the image and label to the data list\n",
    "        #data.append((image, label))\n",
    "        \n",
    "        for i in range(0, images.shape[0] - patch_size[0] + 1, stride):  # Adjusted the loop range\n",
    "            for j in range(0, images.shape[1] - patch_size[1] + 1, stride):  # Adjusted the loop range\n",
    "                image_patch = images[i:i + patch_size[0], j:j + patch_size[1], :]\n",
    "                label_patch = labels[i:i + patch_size[0], j:j + patch_size[1], :]\n",
    "\n",
    "                # Save image patches\n",
    "                image_pil = Image.fromarray(image_patch)\n",
    "                label_pil = Image.fromarray(label_patch)\n",
    "\n",
    "                image_filename = f\"{k}_{i}_{j}.png\"\n",
    "                label_filename = f\"{k}_{i}_{j}.png\"\n",
    "\n",
    "                image_path = os.path.join(output_dir_im, image_filename)\n",
    "                label_path = os.path.join(output_dir_la, label_filename)\n",
    "\n",
    "                image_pil.save(image_path)\n",
    "                label_pil.save(label_path)\n",
    "\n",
    "                # Append patches to lists\n",
    "                image_patches.append(image_patch)\n",
    "                label_patches.append(label_patch)\n",
    "            \n",
    "    return 0\n",
    "\n"
   ]
  },
  {
   "cell_type": "code",
   "execution_count": null,
   "id": "2357fe71",
   "metadata": {},
   "outputs": [],
   "source": [
    "\n",
    "# Specify the directory path for the images\n",
    "images_directory = 'tissue_positive/image/'\n",
    "\n",
    "# Specify the directory path for the labels\n",
    "labels_directory = 'tissue_positive/label/'\n",
    "\n",
    "# Get the list of image file names\n",
    "image_files = os.listdir(images_directory)\n",
    "\n"
   ]
  },
  {
   "cell_type": "code",
   "execution_count": null,
   "id": "b407129f",
   "metadata": {},
   "outputs": [],
   "source": [
    "%%time\n",
    "extract_patches()"
   ]
  },
  {
   "cell_type": "code",
   "execution_count": null,
   "id": "fa733484",
   "metadata": {},
   "outputs": [],
   "source": []
  }
 ],
 "metadata": {
  "kernelspec": {
   "display_name": "Python 3 (ipykernel)",
   "language": "python",
   "name": "python3"
  },
  "language_info": {
   "codemirror_mode": {
    "name": "ipython",
    "version": 3
   },
   "file_extension": ".py",
   "mimetype": "text/x-python",
   "name": "python",
   "nbconvert_exporter": "python",
   "pygments_lexer": "ipython3",
   "version": "3.9.12"
  }
 },
 "nbformat": 4,
 "nbformat_minor": 5
}
